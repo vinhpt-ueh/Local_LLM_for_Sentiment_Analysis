{
  "cells": [
    {
      "cell_type": "markdown",
      "metadata": {},
      "source": [
        "## Chuyển đổi sang Ollama - Few-Shot"
      ]
    },
    {
      "cell_type": "code",
      "execution_count": null,
      "metadata": {
        "id": "uWWItk1vEWFc"
      },
      "outputs": [],
      "source": [
        "import pandas as pd\n",
        "from sklearn.feature_extraction.text import TfidfVectorizer\n",
        "from sklearn.metrics.pairwise import cosine_similarity\n",
        "import requests\n",
        "import json"
      ]
    },
    {
      "cell_type": "code",
      "execution_count": null,
      "metadata": {
        "id": "AulimeZEnm6p"
      },
      "outputs": [],
      "source": [
        "# Thay 'llama3' bằng tên model Ollama bạn muốn sử dụng (ví dụ: 'mistral', 'llama2', v.v.)\n",
        "ollama_model = 'llama3'\n",
        "domain_list = ['mobile', 'fashion', 'cosmetic', 'app']"
      ]
    },
    {
      "cell_type": "code",
      "execution_count": null,
      "metadata": {
        "id": "RC5rJmIbnx2u"
      },
      "outputs": [],
      "source": [
        "def call_ollama(prompt):\n",
        "    \"\"\"Hàm gửi yêu cầu đến Ollama API và nhận kết quả.\"\"\"\n",
        "    url = 'http://localhost:11434/api/generate'\n",
        "    payload = {\n",
        "        \"model\": ollama_model,\n",
        "        \"prompt\": prompt,\n",
        "        \"stream\": False\n",
        "    }\n",
        "    try:\n",
        "        response = requests.post(url, json=payload)\n",
        "        response.raise_for_status()  # Báo lỗi nếu request không thành công\n",
        "        response_data = response.json()\n",
        "        return response_data.get('response', '').strip()\n",
        "    except requests.exceptions.RequestException as e:\n",
        "        print(f\"Lỗi khi gọi Ollama API: {e}\")\n",
        "        return \"\"\n",
        "\n",
        "for domain in domain_list:\n",
        "  datafile = domain\n",
        "  # Bạn cần đảm bảo đường dẫn đến file là chính xác\n",
        "  df_train = pd.read_excel(f'/content/viocd_train_{datafile}.xlsx')\n",
        "  df_test = pd.read_excel(f'/content/viocd_test_{datafile}.xlsx')\n",
        "  df_test['Prediction'] = ''\n",
        "\n",
        "  # Create a TfidfVectorizer\n",
        "  tfidf_vectorizer = TfidfVectorizer()\n",
        "  tfidf_matrix = tfidf_vectorizer.fit_transform(df_train['Comment'])\n",
        "  # Get indices of comments with label 0,1\n",
        "  indices_label_0 = df_train[df_train['Label'] == 0].index\n",
        "  indices_label_1 = df_train[df_train['Label'] == 1].index\n",
        "\n",
        "  def get_similarity_comments(text_input):\n",
        "    text_input_tfidf = tfidf_vectorizer.transform([text_input])\n",
        "    cosine_similarities = cosine_similarity(text_input_tfidf, tfidf_matrix).flatten()\n",
        "    similarities_label_0 = cosine_similarities[indices_label_0]\n",
        "    similarities_label_1 = cosine_similarities[indices_label_1]\n",
        "    top_indices_label_0 = indices_label_0[similarities_label_0.argsort()[-1:][::-1]]\n",
        "    top_comments_label_0 = df_train.loc[top_indices_label_0]['Comment'].tolist()\n",
        "    top_indices_label_1 = indices_label_1[similarities_label_1.argsort()[-1:][::-1]]\n",
        "    top_comments_label_1 = df_train.loc[top_indices_label_1]['Comment'].tolist()\n",
        "    return top_comments_label_0, top_comments_label_1\n",
        "\n",
        "  def create_instruction_prompt(example_comments_label_0, example_comments_label_1):\n",
        "    identity = \"# Identity\\nBạn là chuyên gia phân loại văn bản, hãy gắn nhãn các bình luận thương mại điện tử có sự phàn nàn là '1', ngược lại là '0'.\"\n",
        "    instructions = \"# Instructions\\nCâu trả lời có một từ duy nhất, là '1' hoăc '0' và không có bình luận bổ sung.\"\n",
        "    examples = f\"# Examples\\n<review id='example-1'>\\n{example_comments_label_0[0]}\\n</review>\\n<response id='example-1'>\\n0\\n</response>\\n<review id='example-2'>\\n{example_comments_label_1[0]}\\n</review>\\n<response id='example-2'>\\n1\\n</response>\"\n",
        "    return f\"{identity}\\n{instructions}\\n{examples}\"\n",
        "\n",
        "  for index, row in df_test.iterrows():\n",
        "    comment = row['Comment']\n",
        "    top_comments_label_0, top_comments_label_1 = get_similarity_comments(comment)\n",
        "    \n",
        "    # Tạo phần đầu của prompt với các ví dụ\n",
        "    instruction_prompt = create_instruction_prompt(top_comments_label_0, top_comments_label_1)\n",
        "    \n",
        "    # Tạo prompt hoàn chỉnh cho Ollama\n",
        "    full_prompt = f\"{instruction_prompt}\\n<review id='input'>\\n{comment}\\n</review>\\n<response id='input'>\"\n",
        "\n",
        "    # Gọi Ollama API\n",
        "    prediction = call_ollama(full_prompt)\n",
        "    \n",
        "    df_test.loc[index, 'Prediction'] = prediction\n",
        "    print(f\"Đã xử lý comment {index + 1}/{len(df_test)} của domain {domain}\")\n",
        "\n",
        "  df_test.to_excel(f'/content/viocd_prediction_{datafile}_fews_{ollama_model}.xlsx', index=False)\n",
        "  print(f\"Đã lưu kết quả cho domain: {domain}\")"
      ]
    },
    {
      "cell_type": "code",
      "execution_count": null,
      "metadata": {
        "id": "BUdxv56gL4bl"
      },
      "outputs": [],
      "source": [
        "# Đoạn code này để đánh giá kết quả, bạn có thể chạy sau khi có file prediction\n",
        "from sklearn.metrics import classification_report\n",
        "df_result = pd.read_excel(f'/content/viocd_prediction_mobile_fews_{ollama_model}.xlsx') # Thay 'mobile' bằng domain bạn muốn xem\n",
        "y_true = [str(label) for label in df_result['Label']]\n",
        "y_pred = [str(label) for label in df_result['Prediction']]\n",
        "report = classification_report(y_true, y_pred, labels=['0', '1'])\n",
        "print(report)"
      ]
    }
  ],
  "metadata": {
    "colab": {
      "provenance": []
    },
    "kernelspec": {
      "display_name": "Python 3",
      "name": "python3"
    },
    "language_info": {
      "name": "python"
    }
  },
  "nbformat": 4,
  "nbformat_minor": 0
}
